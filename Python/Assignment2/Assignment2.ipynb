{
 "cells": [
  {
   "attachments": {},
   "cell_type": "markdown",
   "metadata": {},
   "source": [
    "1. Write a Python program to read a square matrix from the console and print the sum of the\n",
    "matrix's primary diagonal. Accept the size of the square matrix and elements for each column\n",
    "separated with a space (for every row) as input from the user."
   ]
  },
  {
   "cell_type": "code",
   "execution_count": null,
   "metadata": {},
   "outputs": [],
   "source": [
    "# get matrix size from user\n",
    "n = int(input(\"Enter the size of the square matrix: \"))\n",
    "\n",
    "# initialize list for diagonal elements\n",
    "diagonal = []\n",
    "\n",
    "# get matrix elements from user and add diagonal elements to list\n",
    "for i in range(n):\n",
    "    row = input(f\"Enter the elements for row {i+1}, separated by spaces: \")\n",
    "    elements = row.split()\n",
    "    diagonal.append(int(elements[i]))\n",
    "\n",
    "# calculate sum of diagonal elements\n",
    "diagonal_sum = sum(diagonal)\n",
    "\n",
    "# print sum of primary diagonal\n",
    "print(\"Sum of primary diagonal:\", diagonal_sum)\n"
   ]
  },
  {
   "attachments": {},
   "cell_type": "markdown",
   "metadata": {},
   "source": [
    "2. Write a Python program to create a multidimensional list (lists of lists) with zeros"
   ]
  },
  {
   "cell_type": "code",
   "execution_count": null,
   "metadata": {},
   "outputs": [],
   "source": [
    "# get number of rows and columns from user\n",
    "rows = int(input(\"Enter the number of rows: \"))\n",
    "cols = int(input(\"Enter the number of columns: \"))\n",
    "\n",
    "# create a 2D list filled with zeros using a list comprehension\n",
    "matrix = [\n",
    "    [0 for j in range(cols)] \n",
    "    for i in range(rows)\n",
    "    ]\n",
    "\n",
    "# print the resulting matrix\n",
    "print(matrix)\n"
   ]
  },
  {
   "attachments": {},
   "cell_type": "markdown",
   "metadata": {},
   "source": [
    "3. Write a Python program to remove a key from a dictionary."
   ]
  },
  {
   "cell_type": "code",
   "execution_count": null,
   "metadata": {},
   "outputs": [],
   "source": [
    "# define a dictionary\n",
    "my_dict = {'a': 'Diala', 'b': 'Nabeel', 'c': 'Abedalqader'}\n",
    "\n",
    "# print the original dictionary\n",
    "print('Original dict:', my_dict)\n",
    "\n",
    "# remove a key from the dictionary using the \"del\" keyword\n",
    "key_to_remove = 'b'\n",
    "del my_dict[key_to_remove]\n",
    "\n",
    "# print the updated dictionary\n",
    "print('Updated dict:', my_dict)\n"
   ]
  },
  {
   "attachments": {},
   "cell_type": "markdown",
   "metadata": {},
   "source": [
    "4. Write a Python program to convert a list into a nested dictionary of keys."
   ]
  },
  {
   "cell_type": "code",
   "execution_count": null,
   "metadata": {},
   "outputs": [],
   "source": [
    "def list_to_dict(lst):\n",
    "    result = {}\n",
    "    current = result\n",
    "    for key in lst[:-1]:\n",
    "        current[key] = {}\n",
    "        current = current[key]\n",
    "    current[lst[-1]] = None\n",
    "    return result\n",
    "\n",
    "# example usage\n",
    "list1 = ['Diala', 'Aya', 'Yazan']\n",
    "list2 = ['Mom']\n",
    "list3 = ['Mom' , 'Dad']\n",
    "list4 = ['']\n",
    "my_dict1 = list_to_dict(list1)\n",
    "my_dict2 = list_to_dict(list2)\n",
    "my_dict3 = list_to_dict(list3)\n",
    "my_dict4 = list_to_dict(list4)\n",
    "\n",
    "print(my_dict1)\n",
    "print(my_dict2)\n",
    "print(my_dict3)\n",
    "print(my_dict4)\n",
    "\n"
   ]
  },
  {
   "attachments": {},
   "cell_type": "markdown",
   "metadata": {},
   "source": [
    "5. Write a Python program to reverse a tuple."
   ]
  },
  {
   "cell_type": "code",
   "execution_count": null,
   "metadata": {},
   "outputs": [],
   "source": [
    "def reverse_tuple(t):\n",
    "    return tuple(reversed(t))\n",
    "\n",
    "# example usage\n",
    "tuple1 = (2, 4, 6, 8)\n",
    "tuple2 = (8,10)\n",
    "tuple3 = ('a', 'b', 'c', 'd')\n",
    "reversed_tuple1 = reverse_tuple(tuple1)\n",
    "reversed_tuple2 = reverse_tuple(tuple2)\n",
    "reversed_tuple3 = reverse_tuple(tuple3)\n",
    "print(reversed_tuple1)\n",
    "print(reversed_tuple2)\n",
    "print(reversed_tuple3)\n"
   ]
  },
  {
   "attachments": {},
   "cell_type": "markdown",
   "metadata": {},
   "source": [
    "6. Build a program that solves the Table Tennis problem,"
   ]
  },
  {
   "cell_type": "code",
   "execution_count": null,
   "metadata": {},
   "outputs": [],
   "source": [
    "n, k = map(int, input().split())\n",
    "a = list(map(int, input().split()))\n",
    "\n",
    "winner = a[0]\n",
    "streak = 1\n",
    "for i in range(1, n):\n",
    "    if a[i] > winner:\n",
    "        winner = a[i]\n",
    "        streak = 1\n",
    "    else:\n",
    "        streak += 1\n",
    "        if streak >= k:\n",
    "            break\n",
    "\n",
    "print(winner)\n"
   ]
  }
 ],
 "metadata": {
  "kernelspec": {
   "display_name": "Python 3",
   "language": "python",
   "name": "python3"
  },
  "language_info": {
   "codemirror_mode": {
    "name": "ipython",
    "version": 3
   },
   "file_extension": ".py",
   "mimetype": "text/x-python",
   "name": "python",
   "nbconvert_exporter": "python",
   "pygments_lexer": "ipython3",
   "version": "3.9.6"
  },
  "orig_nbformat": 4
 },
 "nbformat": 4,
 "nbformat_minor": 2
}
