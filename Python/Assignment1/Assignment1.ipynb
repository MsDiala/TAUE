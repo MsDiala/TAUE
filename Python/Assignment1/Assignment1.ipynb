{
 "cells": [
  {
   "attachments": {},
   "cell_type": "markdown",
   "metadata": {},
   "source": [
    "1. Print any sentence by assigning three different types of variables \"string, int, float\" and print\n",
    "all type of them."
   ]
  },
  {
   "cell_type": "code",
   "execution_count": 1,
   "metadata": {},
   "outputs": [
    {
     "name": "stdout",
     "output_type": "stream",
     "text": [
      "I am a string.\n",
      "<class 'str'>\n",
      "42\n",
      "<class 'int'>\n",
      "3.14\n",
      "<class 'float'>\n"
     ]
    }
   ],
   "source": [
    "# Assigning variables\n",
    "my_string = \"I am a string.\"\n",
    "my_int = 42\n",
    "my_float = 3.14\n",
    "\n",
    "# Printing variables and their types\n",
    "print(my_string)\n",
    "print(type(my_string))\n",
    "print(my_int)\n",
    "print(type(my_int))\n",
    "print(my_float)\n",
    "print(type(my_float))"
   ]
  },
  {
   "attachments": {},
   "cell_type": "markdown",
   "metadata": {},
   "source": [
    "2. Calculate the Perimeter and area of following shapes\n",
    "- a. Circle and casting the result to int value\n",
    "- b. Rectangle\n",
    "- c. Square\n",
    "- • Note That pi=3.14, Length = 12, width =6, radius = 7.3"
   ]
  },
  {
   "cell_type": "code",
   "execution_count": 3,
   "metadata": {},
   "outputs": [
    {
     "name": "stdout",
     "output_type": "stream",
     "text": [
      "Perimeter of the circle: 45\n",
      "Area of the circle: 167\n"
     ]
    }
   ],
   "source": [
    "import math\n",
    "\n",
    "radius = 7.3\n",
    "pi = 3.14\n",
    "\n",
    "perimeter_circle = int(2 * pi * radius)\n",
    "area_circle = int(pi * radius**2)\n",
    "\n",
    "print(\"Perimeter of the circle:\", perimeter_circle)\n",
    "print(\"Area of the circle:\", area_circle)\n"
   ]
  },
  {
   "cell_type": "code",
   "execution_count": 4,
   "metadata": {},
   "outputs": [
    {
     "name": "stdout",
     "output_type": "stream",
     "text": [
      "Perimeter of the rectangle: 36\n",
      "Area of the rectangle: 72\n"
     ]
    }
   ],
   "source": [
    "length = 12\n",
    "width = 6\n",
    "\n",
    "perimeter_rectangle = 2 * (length + width)\n",
    "area_rectangle = length * width\n",
    "\n",
    "print(\"Perimeter of the rectangle:\", perimeter_rectangle)\n",
    "print(\"Area of the rectangle:\", area_rectangle)\n",
    "\n"
   ]
  },
  {
   "cell_type": "code",
   "execution_count": 5,
   "metadata": {},
   "outputs": [
    {
     "name": "stdout",
     "output_type": "stream",
     "text": [
      "Perimeter of the square: 48\n",
      "Area of the square: 144\n"
     ]
    }
   ],
   "source": [
    "side_length = 12\n",
    "\n",
    "perimeter_square = 4 * side_length\n",
    "area_square = side_length**2\n",
    "\n",
    "print(\"Perimeter of the square:\", perimeter_square)\n",
    "print(\"Area of the square:\", area_square)\n"
   ]
  },
  {
   "attachments": {},
   "cell_type": "markdown",
   "metadata": {},
   "source": [
    "3. Write a Python program to check whether a string contains all letters of the alphabet."
   ]
  },
  {
   "cell_type": "code",
   "execution_count": 6,
   "metadata": {},
   "outputs": [
    {
     "name": "stdout",
     "output_type": "stream",
     "text": [
      "True\n",
      "True\n"
     ]
    }
   ],
   "source": [
    "import string\n",
    "\n",
    "def contains_all_alphabet_letters(input_string):\n",
    "    # Convert input string to lowercase for case-insensitive comparison\n",
    "    input_string = input_string.lower()\n",
    "    \n",
    "    # Create a set of all lowercase letters of the alphabet\n",
    "    alphabet_set = set(string.ascii_lowercase)\n",
    "    \n",
    "    # Convert the input string into a set of unique characters\n",
    "    input_set = set(input_string)\n",
    "    \n",
    "    # Check if the alphabet set is a subset of the input set\n",
    "    if alphabet_set.issubset(input_set):\n",
    "        return True\n",
    "    else:\n",
    "        return False\n",
    "\n",
    "# Test the function\n",
    "input_str1 = \"The quick brown fox jumps over the lazy dog\"\n",
    "input_str2 = \"Pack my box with five dozen liquor jugs\"\n",
    "\n",
    "print(contains_all_alphabet_letters(input_str1))\n",
    "print(contains_all_alphabet_letters(input_str2))\n"
   ]
  },
  {
   "attachments": {},
   "cell_type": "markdown",
   "metadata": {},
   "source": [
    "4. Write a Python program to lowercase the first n characters in a string."
   ]
  },
  {
   "cell_type": "code",
   "execution_count": 7,
   "metadata": {},
   "outputs": [
    {
     "name": "stdout",
     "output_type": "stream",
     "text": [
      "hello, World!\n"
     ]
    }
   ],
   "source": [
    "def lowercase_first_n_chars(input_string, n):\n",
    "    if n <= len(input_string):\n",
    "        return input_string[:n].lower() + input_string[n:]\n",
    "    else:\n",
    "        return input_string.lower()\n",
    "\n",
    "# Test the function\n",
    "input_str = \"Hello, World!\"\n",
    "n = 7\n",
    "\n",
    "lowercased_str = lowercase_first_n_chars(input_str, n)\n",
    "print(lowercased_str)\n"
   ]
  },
  {
   "attachments": {},
   "cell_type": "markdown",
   "metadata": {},
   "source": [
    "5. Write a Python program to format a number with a percentage."
   ]
  },
  {
   "cell_type": "code",
   "execution_count": 8,
   "metadata": {},
   "outputs": [
    {
     "name": "stdout",
     "output_type": "stream",
     "text": [
      "75.00%\n"
     ]
    }
   ],
   "source": [
    "def format_number_as_percentage(number):\n",
    "    formatted_percentage = \"{:.2%}\".format(number)\n",
    "    return formatted_percentage\n",
    "\n",
    "# Test the function\n",
    "input_number = 0.75\n",
    "\n",
    "formatted_percentage = format_number_as_percentage(input_number)\n",
    "print(formatted_percentage)\n"
   ]
  },
  {
   "attachments": {},
   "cell_type": "markdown",
   "metadata": {},
   "source": [
    "6. Print Write a Python program to construct the following pattern, using a nested for loop.\n",
    "\n",
    "```\n",
    "*\n",
    "* *\n",
    "* * *\n",
    "* * * *\n",
    "* * * * *\n",
    "* * * *\n",
    "* * *\n",
    "* *\n",
    "*\n",
    "```\n"
   ]
  },
  {
   "cell_type": "code",
   "execution_count": 9,
   "metadata": {},
   "outputs": [
    {
     "name": "stdout",
     "output_type": "stream",
     "text": [
      "* \n",
      "* * \n",
      "* * * \n",
      "* * * * \n",
      "* * * * * \n",
      "* * * * \n",
      "* * * \n",
      "* * \n",
      "* \n"
     ]
    }
   ],
   "source": [
    "def print_pattern(n):\n",
    "    for i in range(n):  # Loop for the upper half of the pattern\n",
    "        for j in range(i + 1):\n",
    "            print(\"*\", end=\" \")\n",
    "        print()\n",
    "\n",
    "    for i in range(n - 1, 0, -1):  # Loop for the lower half of the pattern\n",
    "        for j in range(i):\n",
    "            print(\"*\", end=\" \")\n",
    "        print()\n",
    "\n",
    "# Test the function\n",
    "rows = 5\n",
    "print_pattern(rows)\n"
   ]
  }
 ],
 "metadata": {
  "kernelspec": {
   "display_name": "Python 3",
   "language": "python",
   "name": "python3"
  },
  "language_info": {
   "codemirror_mode": {
    "name": "ipython",
    "version": 3
   },
   "file_extension": ".py",
   "mimetype": "text/x-python",
   "name": "python",
   "nbconvert_exporter": "python",
   "pygments_lexer": "ipython3",
   "version": "3.9.6"
  },
  "orig_nbformat": 4
 },
 "nbformat": 4,
 "nbformat_minor": 2
}
