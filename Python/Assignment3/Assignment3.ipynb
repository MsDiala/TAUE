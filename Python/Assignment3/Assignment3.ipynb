{
 "cells": [
  {
   "cell_type": "code",
   "execution_count": 1,
   "metadata": {},
   "outputs": [],
   "source": [
    "import numpy as np"
   ]
  },
  {
   "attachments": {},
   "cell_type": "markdown",
   "metadata": {},
   "source": [
    "1. Write a NumPy program to create a new shape to an array without changing its data.\n",
    "Arr1 = np.array([1, 21, 32, 43, 54, 65, 5, 44, 10, 11, 12, 13])"
   ]
  },
  {
   "cell_type": "code",
   "execution_count": 2,
   "metadata": {},
   "outputs": [
    {
     "name": "stdout",
     "output_type": "stream",
     "text": [
      "[[ 1 21 32 43]\n",
      " [54 65  5 44]\n",
      " [10 11 12 13]]\n"
     ]
    }
   ],
   "source": [
    "Arr1 = np.array([1, 21, 32, 43, 54, 65, 5, 44, 10, 11, 12, 13])\n",
    "\n",
    "new_shape = (3, 4)  # Desired shape for the array\n",
    "\n",
    "# Reshape the array without changing its data\n",
    "reshaped_array = np.reshape(Arr1, new_shape)\n",
    "\n",
    "print(reshaped_array)\n"
   ]
  },
  {
   "attachments": {},
   "cell_type": "markdown",
   "metadata": {},
   "source": [
    "2. Write a NumPy program to change the data type of an array.\n",
    "Arr2 = np.array([[24, 4, 6, 3], [61, 8, 10, 91]], np.int64)"
   ]
  },
  {
   "cell_type": "code",
   "execution_count": 3,
   "metadata": {},
   "outputs": [
    {
     "name": "stdout",
     "output_type": "stream",
     "text": [
      "float64\n"
     ]
    }
   ],
   "source": [
    "Arr2 = np.array([[24, 4, 6, 3], [61, 8, 10, 91]], np.int64)\n",
    "\n",
    "new_dtype = np.float64  # Desired data type for the array\n",
    "\n",
    "# Change the data type of the array\n",
    "changed_dtype_array = Arr2.astype(new_dtype)\n",
    "\n",
    "print(changed_dtype_array.dtype)\n"
   ]
  },
  {
   "attachments": {},
   "cell_type": "markdown",
   "metadata": {},
   "source": [
    "3. Write a NumPy program to create an array of 3,5 shape and swap column 2 with column 3.\n",
    "Arr3 = np.arange(15).reshape(3,5)"
   ]
  },
  {
   "cell_type": "code",
   "execution_count": 7,
   "metadata": {},
   "outputs": [
    {
     "name": "stdout",
     "output_type": "stream",
     "text": [
      "Original Array:\n",
      "[[ 0  1  2  3  4]\n",
      " [ 5  6  7  8  9]\n",
      " [10 11 12 13 14]]\n",
      "\n",
      "Swapping column 2 with column 3:\n",
      "[[ 0  2  1  3  4]\n",
      " [ 5  7  6  8  9]\n",
      " [10 12 11 13 14]]\n"
     ]
    }
   ],
   "source": [
    "Arr3 = np.arange(15).reshape(3, 5)\n",
    "\n",
    "print(\"Original Array:\")\n",
    "print(Arr3)\n",
    "\n",
    "# Swap column 2 with column 3\n",
    "Arr3[:, [1, 2]] = Arr3[:, [2, 1]]\n",
    "\n",
    "print(\"\\nSwapping column 2 with column 3:\")\n",
    "print(Arr3)\n"
   ]
  },
  {
   "attachments": {},
   "cell_type": "markdown",
   "metadata": {},
   "source": [
    "4. Write a NumPy program to create one-dimensional array of four, five and six digit numbers."
   ]
  },
  {
   "cell_type": "code",
   "execution_count": 5,
   "metadata": {},
   "outputs": [
    {
     "name": "stdout",
     "output_type": "stream",
     "text": [
      "Array of Four-Digit Numbers:\n",
      "[1818 7320 7930 1665 1860 9802 2588 3630 3397 3811]\n",
      "\n",
      "Array of Five-Digit Numbers:\n",
      "[26839 77689 12878 26505 63396 16511 23568 12717 11421 84402]\n",
      "\n",
      "Array of Six-Digit Numbers:\n",
      "[275003 376851 341359 334646 185584 271904 202777 618595 371478 141925]\n"
     ]
    }
   ],
   "source": [
    "# Create one-dimensional array of four, five, and six-digit numbers\n",
    "four_digit_array = np.random.randint(1000, 9999, size=10)\n",
    "five_digit_array = np.random.randint(10000, 99999, size=10)\n",
    "six_digit_array = np.random.randint(100000, 999999, size=10)\n",
    "\n",
    "print(\"Array of Four-Digit Numbers:\")\n",
    "print(four_digit_array)\n",
    "\n",
    "print(\"\\nArray of Five-Digit Numbers:\")\n",
    "print(five_digit_array)\n",
    "\n",
    "print(\"\\nArray of Six-Digit Numbers:\")\n",
    "print(six_digit_array)\n"
   ]
  },
  {
   "attachments": {},
   "cell_type": "markdown",
   "metadata": {},
   "source": [
    "\n",
    "5. Write a NumPy program to find the missing data in a given array.\n",
    "Arr4 = np.array([[3, 2, np.nan, np.nan],\n",
    " [10, np.nan, 10, np.nan],\n",
    " [5, np.nan, 1, np.nan],\n",
    " [25, 3, 1, np.nan]])"
   ]
  },
  {
   "cell_type": "code",
   "execution_count": 6,
   "metadata": {},
   "outputs": [
    {
     "name": "stdout",
     "output_type": "stream",
     "text": [
      "Original Array:\n",
      "[[ 3.  2. nan nan]\n",
      " [10. nan 10. nan]\n",
      " [ 5. nan  1. nan]\n",
      " [25.  3.  1. nan]]\n",
      "\n",
      "Missing Data:\n",
      "[[False False  True  True]\n",
      " [False  True False  True]\n",
      " [False  True False  True]\n",
      " [False False False  True]]\n"
     ]
    }
   ],
   "source": [
    "Arr4 = np.array([[3, 2, np.nan, np.nan],\n",
    "                 [10, np.nan, 10, np.nan],\n",
    "                 [5, np.nan, 1, np.nan],\n",
    "                 [25, 3, 1, np.nan]])\n",
    "\n",
    "# Find the missing data in the array\n",
    "missing_data = np.isnan(Arr4)\n",
    "\n",
    "print(\"Original Array:\")\n",
    "print(Arr4)\n",
    "\n",
    "print(\"\\nMissing Data:\")\n",
    "print(missing_data)"
   ]
  },
  {
   "attachments": {},
   "cell_type": "markdown",
   "metadata": {},
   "source": [
    "6. Write a NumPy program to add a new row to an empty NumPy array.\n"
   ]
  },
  {
   "cell_type": "code",
   "execution_count": 7,
   "metadata": {},
   "outputs": [
    {
     "name": "stdout",
     "output_type": "stream",
     "text": [
      "Empty Array:\n",
      "[]\n",
      "\n",
      "New Row:\n",
      "[1 2 3]\n",
      "\n",
      "Updated Array:\n",
      "[[1 2 3]]\n"
     ]
    }
   ],
   "source": [
    "empty_array = np.empty((0, 3), dtype=int)  # Create an empty 2D array with 3 columns\n",
    "\n",
    "new_row = np.array([1, 2, 3])  # New row to be added\n",
    "\n",
    "# Add the new row to the empty array\n",
    "updated_array = np.vstack((empty_array, new_row))\n",
    "\n",
    "print(\"Empty Array:\")\n",
    "print(empty_array)\n",
    "\n",
    "print(\"\\nNew Row:\")\n",
    "print(new_row)\n",
    "\n",
    "print(\"\\nUpdated Array:\")\n",
    "print(updated_array)\n"
   ]
  },
  {
   "attachments": {},
   "cell_type": "markdown",
   "metadata": {},
   "source": [
    "7. Write a NumPy program to convert a Python dictionary to a NumPy ndarray.\n"
   ]
  },
  {
   "cell_type": "code",
   "execution_count": 8,
   "metadata": {},
   "outputs": [
    {
     "name": "stdout",
     "output_type": "stream",
     "text": [
      "Python Dictionary:\n",
      "{'a': 1, 'b': 2, 'c': 3, 'd': 4, 'e': 5}\n",
      "\n",
      "NumPy ndarray:\n",
      "[1 2 3 4 5]\n"
     ]
    }
   ],
   "source": [
    "# Python dictionary\n",
    "python_dict = {'a': 1, 'b': 2, 'c': 3, 'd': 4, 'e': 5}\n",
    "\n",
    "# Convert dictionary values to ndarray\n",
    "ndarray = np.array(list(python_dict.values()))\n",
    "\n",
    "print(\"Python Dictionary:\")\n",
    "print(python_dict)\n",
    "\n",
    "print(\"\\nNumPy ndarray:\")\n",
    "print(ndarray)\n"
   ]
  },
  {
   "attachments": {},
   "cell_type": "markdown",
   "metadata": {},
   "source": [
    "\n",
    "\n",
    "\n",
    "8. Write a NumPy program to check whether the dimensions of two given arrays are same or\n",
    "not."
   ]
  },
  {
   "cell_type": "code",
   "execution_count": 9,
   "metadata": {},
   "outputs": [
    {
     "name": "stdout",
     "output_type": "stream",
     "text": [
      "Array 1:\n",
      "[[11 22]\n",
      " [33 44]]\n",
      "\n",
      "Array 2:\n",
      "[[55 66]\n",
      " [77 88]]\n",
      "\n",
      "The dimensions of the two arrays are the same.\n"
     ]
    }
   ],
   "source": [
    "# Given arrays\n",
    "arr1 = np.array([[11, 22], [33, 44]])\n",
    "arr2 = np.array([[55, 66], [77, 88]])\n",
    "# arr2 = np.array([[55, 66], [77, 88],[2,4]])\n",
    "\n",
    "\n",
    "# Check if dimensions are the same\n",
    "same_dimensions = arr1.shape == arr2.shape\n",
    "\n",
    "print(\"Array 1:\")\n",
    "print(arr1)\n",
    "\n",
    "print(\"\\nArray 2:\")\n",
    "print(arr2)\n",
    "\n",
    "if same_dimensions:\n",
    "    print(\"\\nThe dimensions of the two arrays are the same.\")\n",
    "else:\n",
    "    print(\"\\nThe dimensions of the two arrays are different.\")\n"
   ]
  }
 ],
 "metadata": {
  "kernelspec": {
   "display_name": "Python 3",
   "language": "python",
   "name": "python3"
  },
  "language_info": {
   "codemirror_mode": {
    "name": "ipython",
    "version": 3
   },
   "file_extension": ".py",
   "mimetype": "text/x-python",
   "name": "python",
   "nbconvert_exporter": "python",
   "pygments_lexer": "ipython3",
   "version": "3.9.6"
  },
  "orig_nbformat": 4
 },
 "nbformat": 4,
 "nbformat_minor": 2
}
