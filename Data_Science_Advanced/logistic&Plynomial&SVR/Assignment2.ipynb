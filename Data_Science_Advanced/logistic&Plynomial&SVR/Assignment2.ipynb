{
 "cells": [
  {
   "cell_type": "code",
   "execution_count": 16,
   "id": "faaa52b3",
   "metadata": {},
   "outputs": [],
   "source": [
    "import pandas as pd\n",
    "import numpy as np\n",
    "from sklearn.preprocessing import PolynomialFeatures\n",
    "from sklearn.linear_model import LinearRegression\n",
    "from sklearn.linear_model import LogisticRegression\n",
    "from sklearn.metrics import confusion_matrix\n",
    "import matplotlib.pyplot as plt\n",
    "from sklearn.svm import SVR\n",
    "from sklearn.preprocessing import StandardScaler"
   ]
  },
  {
   "cell_type": "code",
   "execution_count": 7,
   "id": "ec2c99fc",
   "metadata": {},
   "outputs": [
    {
     "data": {
      "text/html": [
       "<div>\n",
       "<style scoped>\n",
       "    .dataframe tbody tr th:only-of-type {\n",
       "        vertical-align: middle;\n",
       "    }\n",
       "\n",
       "    .dataframe tbody tr th {\n",
       "        vertical-align: top;\n",
       "    }\n",
       "\n",
       "    .dataframe thead th {\n",
       "        text-align: right;\n",
       "    }\n",
       "</style>\n",
       "<table border=\"1\" class=\"dataframe\">\n",
       "  <thead>\n",
       "    <tr style=\"text-align: right;\">\n",
       "      <th></th>\n",
       "      <th>chocolate name</th>\n",
       "      <th>quality</th>\n",
       "      <th>price</th>\n",
       "    </tr>\n",
       "  </thead>\n",
       "  <tbody>\n",
       "    <tr>\n",
       "      <th>0</th>\n",
       "      <td>1</td>\n",
       "      <td>10</td>\n",
       "      <td>450</td>\n",
       "    </tr>\n",
       "    <tr>\n",
       "      <th>1</th>\n",
       "      <td>2</td>\n",
       "      <td>9</td>\n",
       "      <td>500</td>\n",
       "    </tr>\n",
       "    <tr>\n",
       "      <th>2</th>\n",
       "      <td>3</td>\n",
       "      <td>8</td>\n",
       "      <td>600</td>\n",
       "    </tr>\n",
       "    <tr>\n",
       "      <th>3</th>\n",
       "      <td>4</td>\n",
       "      <td>7</td>\n",
       "      <td>800</td>\n",
       "    </tr>\n",
       "    <tr>\n",
       "      <th>4</th>\n",
       "      <td>5</td>\n",
       "      <td>6</td>\n",
       "      <td>1100</td>\n",
       "    </tr>\n",
       "  </tbody>\n",
       "</table>\n",
       "</div>"
      ],
      "text/plain": [
       "   chocolate name  quality   price\n",
       "0               1        10    450\n",
       "1               2         9    500\n",
       "2               3         8    600\n",
       "3               4         7    800\n",
       "4               5         6   1100"
      ]
     },
     "execution_count": 7,
     "metadata": {},
     "output_type": "execute_result"
    }
   ],
   "source": [
    "data = pd.read_csv('chocolate_data.csv')\n",
    "data.head()\n"
   ]
  },
  {
   "cell_type": "code",
   "execution_count": 8,
   "id": "374902f4",
   "metadata": {},
   "outputs": [
    {
     "data": {
      "text/plain": [
       "Index(['chocolate name', 'quality ', 'price'], dtype='object')"
      ]
     },
     "execution_count": 8,
     "metadata": {},
     "output_type": "execute_result"
    }
   ],
   "source": [
    "data.columns"
   ]
  },
  {
   "cell_type": "markdown",
   "id": "3cd69d8b",
   "metadata": {},
   "source": [
    "## Problem 1: Polynomial Regression \n",
    "---\n",
    "You want to buy huge amount of chocolates to build a chocolate house, every room in this chocolate house should be made of different types of high quality chocolates. There is only one place to buy this amount of chocolate, the \"Chocolate City\" of 1000 different factories and famous for its cheating prices. Chocolate Merchants Association has provided a price sheet `chocolate_data.csv` to beat the deception for 10 types of quality, the prices are per kg, but there are quality types in the market that are not mentioned in the sheet. Build a **`regression model`** that predicts the price per kilogram, and says if you want 1000kg with a quality type called \"3.5\" what is the price?"
   ]
  },
  {
   "cell_type": "code",
   "execution_count": 10,
   "id": "25a5108f",
   "metadata": {},
   "outputs": [
    {
     "name": "stdout",
     "output_type": "stream",
     "text": [
      "Predicted price per kilogram for quality type 3.5: $ 2409.15355477903\n"
     ]
    }
   ],
   "source": [
    "def predict_chocolate_price(quality_type):\n",
    "    # Load the data from the CSV file\n",
    "    data = pd.read_csv('chocolate_data.csv')\n",
    "\n",
    "    # Extract the quality and price columns from the data\n",
    "    quality = data['quality '].values.reshape(-1, 1)\n",
    "    price = data['price'].values\n",
    "\n",
    "    # Create polynomial features\n",
    "    poly_features = PolynomialFeatures(degree=3)\n",
    "    quality_poly = poly_features.fit_transform(quality)\n",
    "\n",
    "    # Train the regression model\n",
    "    regression_model = LinearRegression()\n",
    "    regression_model.fit(quality_poly, price)\n",
    "\n",
    "    # Predict the price for a given quality\n",
    "    quality_new = [[quality_type]]\n",
    "    quality_new_poly = poly_features.transform(quality_new)\n",
    "    predicted_price = regression_model.predict(quality_new_poly)\n",
    "\n",
    "    return predicted_price[0]\n",
    "\n",
    "# Example usage\n",
    "predicted_price = predict_chocolate_price(3.5)\n",
    "print(\"Predicted price per kilogram for quality type 3.5: $\", predicted_price)\n"
   ]
  },
  {
   "cell_type": "markdown",
   "id": "b7b1e352",
   "metadata": {},
   "source": [
    "## Problem 2: SVR\n",
    "---\n",
    "Build **`SVR model`** on the chocolate dataset `chocolate_data.csv` and provide the output graph showing the predictions of prices vs quality levels."
   ]
  },
  {
   "cell_type": "code",
   "execution_count": 15,
   "id": "39a59783",
   "metadata": {},
   "outputs": [
    {
     "data": {
      "image/png": "[encoded data removed]",
      "text/plain": [
       "<Figure size 720x432 with 1 Axes>"
      ]
     },
     "metadata": {
      "needs_background": "light"
     },
     "output_type": "display_data"
    }
   ],
   "source": [
    "#Write your code\n",
    "def visualize_svr_predictions():\n",
    "    # Load the data from the CSV file\n",
    "    data = pd.read_csv('chocolate_data.csv')\n",
    "\n",
    "    # Extract the quality and price columns from the data\n",
    "    quality = data['quality '].values.reshape(-1, 1)\n",
    "    price = data['price'].values\n",
    "\n",
    "    # Scale the features\n",
    "    scaler = StandardScaler()\n",
    "    quality_scaled = scaler.fit_transform(quality)\n",
    "\n",
    "    # Create and train the SVR model\n",
    "    svr_model = SVR(kernel='rbf')\n",
    "    svr_model.fit(quality_scaled, price)\n",
    "\n",
    "    # Generate predictions for quality levels\n",
    "    quality_levels = np.linspace(0, 10, 100).reshape(-1, 1)\n",
    "    quality_levels_scaled = scaler.transform(quality_levels)\n",
    "    predicted_prices = svr_model.predict(quality_levels_scaled)\n",
    "\n",
    "    # Plot the predictions\n",
    "    plt.figure(figsize=(10, 6))\n",
    "    plt.scatter(quality, price, color='blue', label='Actual Prices')\n",
    "    plt.plot(quality_levels, predicted_prices, color='red', label='Predicted Prices')\n",
    "    plt.title('SVR Model Predictions')\n",
    "    plt.xlabel('Quality Levels')\n",
    "    plt.ylabel('Price')\n",
    "    plt.legend()\n",
    "    plt.show()\n",
    "\n",
    "# Example usage\n",
    "visualize_svr_predictions()\n"
   ]
  },
  {
   "cell_type": "markdown",
   "id": "974ff7d1",
   "metadata": {},
   "source": [
    "## Problem 3:  Logistic Regression\n",
    "---\n",
    "\n",
    "- Mention 2 types of regularization used to overcome the overfitting problem and what is the difference between them.\n",
    "\n",
    "- Using the data below in X,y. Build a **`logistic model`** to predict the output and evaluate the model with a confusion matrix."
   ]
  },
  {
   "cell_type": "markdown",
   "id": "a5c08e14",
   "metadata": {},
   "source": [
    "\n",
    "Two types of regularization commonly used to overcome the overfitting problem in logistic regression are:\n",
    "\n",
    "- L1 Regularization (Lasso Regularization):\n",
    "  - Penalty term proportional to the absolute values of the coefficients.\n",
    "  - Encourages the model to reduce the coefficients of less important features, driving them towards zero.\n",
    "  - Performs feature selection by effectively eliminating some features from the model.\n",
    "  - Produces sparse models with some coefficients exactly equal to zero.\n",
    "\n",
    "\n",
    "- L2 Regularization (Ridge Regularization):\n",
    "  - Penalty term proportional to the squared values of the coefficients.\n",
    "  - Encourages the model to reduce the magnitudes of all coefficients.\n",
    "  - Shrinks the coefficients towards zero without eliminating them completely.\n",
    "  - Keeps all features in the model but reduces their impact on the final predictions.\n",
    "\n",
    "The main difference between L1 and L2 regularization is that L1 regularization can result in sparse models with some coefficients being exactly zero, effectively performing feature selection. On the other hand, L2 regularization usually reduces the magnitude of all coefficients without eliminating them completely, maintaining all the features in the model."
   ]
  },
  {
   "cell_type": "code",
   "execution_count": 18,
   "id": "6f098aaa",
   "metadata": {},
   "outputs": [
    {
     "name": "stdout",
     "output_type": "stream",
     "text": [
      "Confusion Matrix:\n",
      "[[8 0]\n",
      " [0 7]]\n"
     ]
    }
   ],
   "source": [
    "#Write your code\n",
    "def build_logistic_regression(X, y):\n",
    "    # Build logistic regression model\n",
    "    logistic_model = LogisticRegression()\n",
    "    logistic_model.fit(X, y)\n",
    "\n",
    "    # Predict the output\n",
    "    y_pred = logistic_model.predict(X)\n",
    "\n",
    "    # Calculate confusion matrix\n",
    "    cm = confusion_matrix(y, y_pred)\n",
    "    return cm\n",
    "\n",
    "X = np.arange(15).reshape(-1, 1)\n",
    "y = np.array([0, 0, 0, 0, 0, 0, 0, 0, 1, 1, 1, 1, 1, 1, 1])\n",
    "\n",
    "cm = build_logistic_regression(X, y)\n",
    "print(\"Confusion Matrix:\")\n",
    "print(cm)"
   ]
  },
  {
   "cell_type": "markdown",
   "id": "e9f02c81",
   "metadata": {},
   "source": [
    "# Good Luck 🤗 🤗 🤗"
   ]
  }
 ],
 "metadata": {
  "kernelspec": {
   "display_name": "Python 3 (ipykernel)",
   "language": "python",
   "name": "python3"
  },
  "language_info": {
   "codemirror_mode": {
    "name": "ipython",
    "version": 3
   },
   "file_extension": ".py",
   "mimetype": "text/x-python",
   "name": "python",
   "nbconvert_exporter": "python",
   "pygments_lexer": "ipython3",
   "version": "3.9.6"
  }
 },
 "nbformat": 4,
 "nbformat_minor": 5
}
