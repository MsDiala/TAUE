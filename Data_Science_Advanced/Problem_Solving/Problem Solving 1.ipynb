{
 "cells": [
  {
   "cell_type": "markdown",
   "id": "bebc5abf",
   "metadata": {},
   "source": [
    "# Problem Solving Skills 1\n",
    "This is only to improve your coding and problem solving skills. So,Have Fun!!\n",
    "* Rename the submitted file with YourName PS1\n",
    "* Write your code in the function included and include the output in the return of that function"
   ]
  },
  {
   "cell_type": "markdown",
   "id": "dabe4886",
   "metadata": {},
   "source": [
    "# **Problem 1 👨🏻‍💻**\n",
    "---\n",
    "Write a function to find the longest common prefix string amongst an array of strings.\n",
    "If there is no common prefix, return an empty string \"\".\n",
    "* Example 1:\n",
    "   - Input: strs = [\"flower\", \"flow\", \"flight\"]\n",
    "   - Output: \"fl\"\n",
    "* Example 2:\n",
    "   - Input: strs = [\"dog\", \"racecar\", \"car\"]\n",
    "   - Output: \"\"\n",
    "   - Explanation: There is no common prefix among the input strings.\n",
    "\n",
    "* Constraints:\n",
    "  - 1 <= strs.length <= 200\n",
    "  - 0 <= strs[i].length <= 200\n",
    "  - strs[i] consists of only lowercase English letters.\n"
   ]
  },
  {
   "cell_type": "code",
   "execution_count": 9,
   "id": "0951c29a",
   "metadata": {},
   "outputs": [],
   "source": [
    "def longestCommonPrefix(self, strs):\n",
    "        \"\"\"\n",
    "        :type strs: List[str]\n",
    "        :rtype: str\n",
    "        \"\"\"\n"
   ]
  },
  {
   "cell_type": "code",
   "execution_count": 10,
   "id": "2fe5985c",
   "metadata": {},
   "outputs": [
    {
     "name": "stdout",
     "output_type": "stream",
     "text": [
      "fl\n"
     ]
    }
   ],
   "source": [
    "class Solution:\n",
    "    def longestCommonPrefix(self, strs):\n",
    "        if not strs:\n",
    "            return \"\"\n",
    "\n",
    "        # Find the string with the minimum length\n",
    "        min_len = min(len(s) for s in strs)\n",
    "\n",
    "        # Initialize the common prefix string\n",
    "        common_prefix = \"\"\n",
    "\n",
    "        # Iterate over the characters at each position\n",
    "        for i in range(min_len):\n",
    "            char = strs[0][i]  # Get the character from the first string\n",
    "\n",
    "            # Check if the character is common to all strings\n",
    "            for s in strs[1:]:\n",
    "                if s[i] != char:\n",
    "                    return common_prefix\n",
    "\n",
    "            # If the character is common, add it to the common prefix\n",
    "            common_prefix += char\n",
    "\n",
    "        return common_prefix\n",
    "\n",
    "\n",
    "strs = [\"flower\", \"flow\", \"flight\"]\n",
    "solution = Solution()\n",
    "result = solution.longestCommonPrefix(strs)\n",
    "print(result)  # Output: \"fl\"\n"
   ]
  },
  {
   "cell_type": "markdown",
   "id": "83943c26",
   "metadata": {},
   "source": [
    "# **Problem 2 👨🏻‍💻**\n",
    "---\n",
    "Given an integer x, return true if x is a \n",
    "palindrome\n",
    ", and false otherwise.\n",
    "\n",
    " \n",
    "\n",
    "* Example 1:\n",
    "\n",
    "  - Input: x = 121\n",
    "  - Output: true\n",
    "  - Explanation: 121 reads as 121 from left to right and from right to left.\n",
    "* Example 2:\n",
    "\n",
    "  - Input: x = -121\n",
    "  - Output: false\n",
    "  - Explanation: From left to right, it reads -121. From right to left, it becomes 121-. Therefore it is not a palindrome.\n",
    "* Example 3:\n",
    "\n",
    "  - Input: x = 10\n",
    "  - Output: false\n",
    "  - Explanation: Reads 01 from right to left. Therefore it is not a palindrome.\n",
    " \n",
    "\n",
    "* Constraints:\n",
    "\n",
    "  - -231 <= x <= 231 - 1Write a function to find the longest common prefix string amongst an array of strings.\n",
    "  - If there is no common prefix, return an empty string \"\".\n"
   ]
  },
  {
   "cell_type": "code",
   "execution_count": 11,
   "id": "9445bcb3",
   "metadata": {},
   "outputs": [],
   "source": [
    "def isPalindrome(self, x):\n",
    "        \"\"\"\n",
    "        :type x: int\n",
    "        :rtype: bool\n",
    "        \"\"\""
   ]
  },
  {
   "cell_type": "code",
   "execution_count": 12,
   "id": "7a917317",
   "metadata": {},
   "outputs": [
    {
     "name": "stdout",
     "output_type": "stream",
     "text": [
      "True\n"
     ]
    }
   ],
   "source": [
    "class Solution:\n",
    "    def isPalindrome(self, x):\n",
    "        if x < 0:\n",
    "            return False\n",
    "\n",
    "        # Convert the integer to a string\n",
    "        x_str = str(x)\n",
    "\n",
    "        # Compare characters from the start and end of the string\n",
    "        left = 0\n",
    "        right = len(x_str) - 1\n",
    "\n",
    "        while left < right:\n",
    "            if x_str[left] != x_str[right]:\n",
    "                return False\n",
    "            left += 1\n",
    "            right -= 1\n",
    "\n",
    "        return True\n",
    "x = 121\n",
    "solution = Solution()\n",
    "result = solution.isPalindrome(x)\n",
    "print(result)  # Output: True\n"
   ]
  },
  {
   "cell_type": "markdown",
   "id": "a7cf068e",
   "metadata": {},
   "source": [
    "# Good Luck 🤗 🤗 🤗"
   ]
  }
 ],
 "metadata": {
  "kernelspec": {
   "display_name": "Python 3 (ipykernel)",
   "language": "python",
   "name": "python3"
  },
  "language_info": {
   "codemirror_mode": {
    "name": "ipython",
    "version": 3
   },
   "file_extension": ".py",
   "mimetype": "text/x-python",
   "name": "python",
   "nbconvert_exporter": "python",
   "pygments_lexer": "ipython3",
   "version": "3.9.6"
  }
 },
 "nbformat": 4,
 "nbformat_minor": 5
}
