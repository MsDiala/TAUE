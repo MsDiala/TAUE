{
 "cells": [
  {
   "cell_type": "markdown",
   "id": "bebc5abf",
   "metadata": {},
   "source": [
    "# Problem Solving Skills 1\n",
    "This is only to improve your coding and problem solving skills. So,Have Fun!!\n",
    "* Rename the submitted file with YourName PS1\n",
    "* Write your code in the function included and include the output in the return of that function"
   ]
  },
  {
   "cell_type": "markdown",
   "id": "dabe4886",
   "metadata": {},
   "source": [
    "# **Problem 1 👨🏻‍💻**\n",
    "---\n",
    "Write a function to find the longest common prefix string amongst an array of strings.\n",
    "If there is no common prefix, return an empty string \"\".\n",
    "* Example 1:\n",
    "   - Input: strs = [\"flower\", \"flow\", \"flight\"]\n",
    "   - Output: \"fl\"\n",
    "* Example 2:\n",
    "   - Input: strs = [\"dog\", \"racecar\", \"car\"]\n",
    "   - Output: \"\"\n",
    "   - Explanation: There is no common prefix among the input strings.\n",
    "\n",
    "* Constraints:\n",
    "  - 1 <= strs.length <= 200\n",
    "  - 0 <= strs[i].length <= 200\n",
    "  - strs[i] consists of only lowercase English letters.\n"
   ]
  },
  {
   "cell_type": "code",
   "execution_count": 6,
   "id": "0951c29a",
   "metadata": {},
   "outputs": [],
   "source": [
    "def longestCommonPrefix(self, strs):\n",
    "        \"\"\"\n",
    "        :type strs: List[str]\n",
    "        :rtype: str\n",
    "        \"\"\""
   ]
  },
  {
   "cell_type": "markdown",
   "id": "83943c26",
   "metadata": {},
   "source": [
    "# **Problem 2 👨🏻‍💻**\n",
    "---\n",
    "Given an integer x, return true if x is a \n",
    "palindrome\n",
    ", and false otherwise.\n",
    "\n",
    " \n",
    "\n",
    "* Example 1:\n",
    "\n",
    "  - Input: x = 121\n",
    "  - Output: true\n",
    "  - Explanation: 121 reads as 121 from left to right and from right to left.\n",
    "* Example 2:\n",
    "\n",
    "  - Input: x = -121\n",
    "  - Output: false\n",
    "  - Explanation: From left to right, it reads -121. From right to left, it becomes 121-. Therefore it is not a palindrome.\n",
    "* Example 3:\n",
    "\n",
    "  - Input: x = 10\n",
    "  - Output: false\n",
    "  - Explanation: Reads 01 from right to left. Therefore it is not a palindrome.\n",
    " \n",
    "\n",
    "* Constraints:\n",
    "\n",
    "  - -231 <= x <= 231 - 1Write a function to find the longest common prefix string amongst an array of strings.\n",
    "  - If there is no common prefix, return an empty string \"\".\n"
   ]
  },
  {
   "cell_type": "code",
   "execution_count": 7,
   "id": "9445bcb3",
   "metadata": {},
   "outputs": [],
   "source": [
    "def isPalindrome(self, x):\n",
    "        \"\"\"\n",
    "        :type x: int\n",
    "        :rtype: bool\n",
    "        \"\"\""
   ]
  },
  {
   "cell_type": "markdown",
   "id": "a7cf068e",
   "metadata": {},
   "source": [
    "# Good Luck 🤗 🤗 🤗"
   ]
  }
 ],
 "metadata": {
  "kernelspec": {
   "display_name": "Python 3 (ipykernel)",
   "language": "python",
   "name": "python3"
  },
  "language_info": {
   "codemirror_mode": {
    "name": "ipython",
    "version": 3
   },
   "file_extension": ".py",
   "mimetype": "text/x-python",
   "name": "python",
   "nbconvert_exporter": "python",
   "pygments_lexer": "ipython3",
   "version": "3.10.9"
  }
 },
 "nbformat": 4,
 "nbformat_minor": 5
}
