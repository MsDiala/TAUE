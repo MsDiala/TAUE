{
  "cells": [
    {
      "cell_type": "markdown",
      "metadata": {
        "id": "-GzCq4GqNq9N"
      },
      "source": [
        "### <span style=\"color:orange\">Task 1\n",
        "\n",
        "Create a descriptive csv file from the plain-text samples with the followoing columns:\n",
        "\n",
        "- POSITION_TITLE: Job title.\n",
        "- resume number: the Id of resume that it was saved as\n",
        "- QUALIFICATIONS: The qualifications that each applicant had for the job\n",
        "- EDUCATION _TYPE: type of education that the applicant had (master, bachelor, diploma….)\n",
        "- SCHOOL_TYPE: The type of school the applicant study in (university, college, high school)\n",
        "- EDUCATION_MAJOR: The education major you study in this school.\n",
        "- EXPERIENCE_LENGTH: The number of experience years needed to apply for this job.\n",
        "- AWORDS: If the applicant had an award or not.\n",
        "- COMMUNITY SERVICE: If the applicant had a community service work or not.\n",
        "- VOLUNTEERING: If the applicant had any volunteering or not.\n",
        "- DRIVERS_LICENSE_AVAILABILITY: Is driver license available or not for this applicant.\n",
        "- SKILLS_COUNT: number of skills that the applicant had.\n",
        "- SKILLS: the skill that applicant had.\n",
        "- Languages: the number of languages for each applicant."
      ]
    },
    {
      "cell_type": "code",
      "execution_count": 2,
      "metadata": {
        "id": "kFCe2P13Nq-s"
      },
      "outputs": [],
      "source": [
        "import pandas as pd\n",
        "import re"
      ]
    },
    {
      "cell_type": "code",
      "execution_count": 2,
      "metadata": {
        "id": "lDqA0aUSNq-x"
      },
      "outputs": [],
      "source": [
        "def extract_position_title(resume_text):\n",
        "\"\"\"\n",
        "Extracts the position title from the given resume text.\n",
        "\n",
        "Args:\n",
        "    resume_text (str): The resume text to extract the position title from.\n",
        "    \n",
        "Returns:\n",
        "    str: The extracted position title or 'No info' if not found.\n",
        "\"\"\"\n",
        "    match = re.search(r'(\\S+\\s\\S+)', resume_text, re.IGNORECASE)\n",
        "    return match.group(1) if match else 'No info'"
      ]
    },
    {
      "cell_type": "code",
      "execution_count": 3,
      "metadata": {
        "id": "GXQqCMByNq-6"
      },
      "outputs": [],
      "source": [
        "def extract_qualifications(resume_text):\n",
        "\"\"\"\n",
        "Extracts the qualifications or highlights section from the given resume text.\n",
        "\n",
        "Args:\n",
        "    resume_text (str): The resume text to extract the qualifications from.\n",
        "    \n",
        "Returns:\n",
        "    list: A list of extracted qualifications or ['no info'] if not found.\n",
        "\"\"\"\n",
        "    qualifications = re.findall(r\"Qualifications? \\D+|Highlights?\\D+\", resume_text, re.IGNORECASE)\n",
        "    return([\"no info\" if not qualifications else re.sub(r'Qualifications?|Highlights', \"\", qual , re.IGNORECASE).strip()  for  qual in qualifications])"
      ]
    },
    {
      "cell_type": "code",
      "execution_count": 4,
      "metadata": {
        "id": "tscvrHTaNq-8"
      },
      "outputs": [],
      "source": [
        "def extract_education_type(resume_text):\n",
        "\"\"\"\n",
        "Determines the highest education type achieved based on the given resume text.\n",
        "\n",
        "Args:\n",
        "    resume_text (str): The resume text to extract the education type from.\n",
        "    \n",
        "Returns:\n",
        "    str: The identified education type or 'No info' if not found.\n",
        "\"\"\"\n",
        "    patterns_education_types = {\n",
        "        'PhD': r'\\b(ph\\.?d\\.?)\\b',\n",
        "        'Doctor': r'\\b(doctor|doctore)\\b',\n",
        "        'Master': r'\\b(master|master\\'s|masters|MBA|MS|MSc|MA)\\b',\n",
        "        'Bachelor': r'\\b(bachelor|bachelors|bachelor\\.s|BA|B\\.A|BS|B\\.S|BSc|BAS|BSBA|BBA|BSBM|Sign\\s*Language)\\b',\n",
        "        'Diploma': r'\\b(diploma|Associate|AS|AA|College)\\b',\n",
        "        'High School': r'\\b(high\\sschool|GED)\\b'\n",
        "    }\n",
        "    for degree, pattern in patterns_education_types.items():\n",
        "        if re.search(pattern, resume_text, re.IGNORECASE):\n",
        "            return degree\n",
        "    return 'No info'"
      ]
    },
    {
      "cell_type": "code",
      "execution_count": 5,
      "metadata": {
        "id": "VWVTfpyfNq-_"
      },
      "outputs": [],
      "source": [
        "def extract_school_type(resume_text):\n",
        "\"\"\"\n",
        "Extracts the school type from the given resume text.\n",
        "\n",
        "Args:\n",
        "    resume_text (str): The resume text to extract the school type from.\n",
        "    \n",
        "Returns:\n",
        "    str: The extracted school type ('university', 'college', 'high school') or 'No info' if not found.\n",
        "\"\"\"\n",
        "    return re.search(r\"\\b(university|college|high school)\\b\", resume_text, re.IGNORECASE).group() if re.search(r\"\\b(university|college|high school)\\b\", resume_text, re.IGNORECASE) else 'No info'"
      ]
    },
    {
      "cell_type": "code",
      "execution_count": 6,
      "metadata": {
        "id": "H_Hm7VhONq_B"
      },
      "outputs": [],
      "source": [
        "def extract_education_major(resume_text):\n",
        "\"\"\"\n",
        "Extracts the education major or concentration from the given resume text.\n",
        "\n",
        "Args:\n",
        "    resume_text (str): The resume text to extract the education major from.\n",
        "    \n",
        "Returns:\n",
        "    list: A list of extracted education majors or 'No info' if not found.\n",
        "\"\"\"\n",
        "    major_matches = re.findall(r\"Education\\s*(?:Major|Concentration|Degree)\\s*:\\s*(.*)\", resume_text, re.IGNORECASE)\n",
        "    return [major.strip() for major in major_matches] if major_matches else 'No info'"
      ]
    },
    {
      "cell_type": "code",
      "execution_count": 7,
      "metadata": {
        "id": "q1JPYdr_Nq_D"
      },
      "outputs": [],
      "source": [
        "def extract_experience_length(resume_text):\n",
        "\"\"\"\n",
        "  Extracts the total years of experience from the given resume text.\n",
        "  \n",
        "  Args:\n",
        "      resume_text (str): The resume text to extract the experience length from.\n",
        "      \n",
        "  Returns:\n",
        "      list: A list of extracted experience lengths in years.\n",
        "  \"\"\"\n",
        "  extracted_experience=[]\n",
        "\n",
        "  match = re.findall(r\"(\\d{1,2})\\W?\\s?years?|(\\d{1,2})\\s?plus\\s?years?\", resume_text)\n",
        "  if  match:\n",
        "    extracted_experience.append(re.findall(r\"(\\d{1,2})\\W?\\s?years?|(\\d{1,2})\\s?plus\\s?years?\", resume_text))\n",
        "  else :\n",
        "    extracted_experience.append(re.findall(r\"Experience\\s+\\d{1,2}/(\\d{4})\\s+to\\s+(Current)\\b|\\d{1,2}/(\\d{4})\\s+to\\s+\\d{1,2}/(\\d{4})\",resume_text))\n",
        "\n",
        "\n",
        "  updated = [\n",
        "    [\n",
        "        tuple(['2023' if val == 'Current' else val for val in sub_tuple])\n",
        "        if isinstance(sub_tuple, tuple)\n",
        "        else sub_tuple\n",
        "        for sub_tuple in sublist\n",
        "    ]\n",
        "    for sublist in extracted_experience\n",
        "  ]\n",
        "\n",
        "\n",
        "  experience_years = []\n",
        "  for resume in updated:\n",
        "    years = []\n",
        "    for item in resume:\n",
        "      if isinstance(item, tuple):\n",
        "        if len(item)==4:\n",
        "          start_year = item[0] if item[0] != '' else item[2]\n",
        "          end_year = item[1] if item[1] != '' else item[3]\n",
        "          if start_year and end_year:\n",
        "            years.append(int(end_year) - int(start_year))\n",
        "        else :\n",
        "          start_year = item[0] if item[0] != '' else item[1]\n",
        "          years.append(int(start_year))\n",
        "    if years:\n",
        "      experience_years.append(sum(years))\n",
        "  return experience_years"
      ]
    },
    {
      "cell_type": "code",
      "execution_count": 8,
      "metadata": {
        "id": "PuglBZ8dNq_O"
      },
      "outputs": [],
      "source": [
        "def extract_awards(resume_text):\n",
        "\"\"\"\n",
        "Extracts the awards section from the given resume text.\n",
        "\n",
        "Args:\n",
        "    resume_text (str): The resume text to extract the awards from.\n",
        "    \n",
        "Returns:\n",
        "    list: A list of extracted awards or ['no info'] if not found.\n",
        "\"\"\"\n",
        "    awards = re.findall(r\"AWARDS?\\n?.+\", resume_text, re.IGNORECASE)\n",
        "    return [\"no info\" if not awards else re.sub(r\"AWORDS?[,]|awarded[,]|Awards[,]|awards[,]|Awarded|Awards\", \"\", award, re.IGNORECASE) for award in awards]"
      ]
    },
    {
      "cell_type": "code",
      "execution_count": 9,
      "metadata": {
        "id": "Ok4-G0EcNq_b"
      },
      "outputs": [],
      "source": [
        "def extract_community_service(resume_text):\n",
        "\"\"\"\n",
        "Determines if the given resume text mentions community service or volunteering.\n",
        "\n",
        "Args:\n",
        "    resume_text (str): The resume text to check for community service or volunteering.\n",
        "    \n",
        "Returns:\n",
        "    str: 'Yes' if community service or volunteering is mentioned, 'No' otherwise.\n",
        "\"\"\"\n",
        "    return \"Yes\" if re.search(r\"\\b(community service|volunteer|volunteering)\\b\", resume_text, re.IGNORECASE) else \"No\""
      ]
    },
    {
      "cell_type": "code",
      "execution_count": 10,
      "metadata": {
        "id": "yIIbqXYeNq_f"
      },
      "outputs": [],
      "source": [
        "def extract_volunteering(resume_text):\n",
        "\"\"\"\n",
        "Determines if the given resume text mentions volunteering.\n",
        "\n",
        "Args:\n",
        "    resume_text (str): The resume text to check for volunteering.\n",
        "    \n",
        "Returns:\n",
        "    str: 'Yes' if volunteering is mentioned, 'No' otherwise.\n",
        "\"\"\"\n",
        "    return \"Yes\" if re.search(r\"\\b(volunteer|volunteering)\\b\", resume_text, re.IGNORECASE) else \"No\""
      ]
    },
    {
      "cell_type": "code",
      "execution_count": 11,
      "metadata": {
        "id": "-e_eQ_b2Nq_g"
      },
      "outputs": [],
      "source": [
        "def extract_drivers_license_availability(resume_text):\n",
        "\"\"\"\n",
        "Determines if the given resume text mentions a driver's license or driving license.\n",
        "\n",
        "Args:\n",
        "    resume_text (str): The resume text to check for driver's license or driving license.\n",
        "    \n",
        "Returns:\n",
        "    str: 'Yes' if a driver's license or driving license is mentioned, 'No' otherwise.\n",
        "\"\"\"\n",
        "    return \"Yes\" if re.search(r\"\\b(driver'?s? license|driving license)\\b\", resume_text, re.IGNORECASE) else \"No\""
      ]
    },
    {
      "cell_type": "code",
      "execution_count": 12,
      "metadata": {
        "id": "dVUTgScpNq_h"
      },
      "outputs": [],
      "source": [
        "def extract_skills(resume_text):\n",
        "\"\"\"\n",
        "Extracts the skills section from the given resume text.\n",
        "\n",
        "Args:\n",
        "    resume_text (str): The resume text to extract the skills from.\n",
        "    \n",
        "Returns:\n",
        "    list: A list of extracted skills or ['no info'] if not found.\n",
        "\"\"\"\n",
        "    skills = re.findall(r\"\\bSkills\\b:?\\s*([\\D.]+)\", resume_text, flags=re.IGNORECASE)\n",
        "    return skills if skills else ['no info']"
      ]
    },
    {
      "cell_type": "code",
      "execution_count": 13,
      "metadata": {
        "id": "DuJBgbZZNq_i"
      },
      "outputs": [],
      "source": [
        "def get_skills_count(skills_text):\n",
        "\"\"\"\n",
        "Calculates the count of skills extracted from the resume text.\n",
        "\n",
        "Args:\n",
        "    skills_text (list): The list of skills extracted from the resume.\n",
        "    \n",
        "Returns:\n",
        "    int: The count of skills.\n",
        "\"\"\"\n",
        "    return len(skills_text[0].split(', ')) if skills_text[0] != 'no info' else 0"
      ]
    },
    {
      "cell_type": "code",
      "execution_count": 14,
      "metadata": {
        "id": "1Ctbjih4Nq_k"
      },
      "outputs": [],
      "source": [
        "def extract_languages(resume_text):\n",
        "\"\"\"\n",
        "Extracts the languages mentioned in the given resume text.\n",
        "\n",
        "Args:\n",
        "    resume_text (str): The resume text to extract the languages from.\n",
        "    \n",
        "Returns:\n",
        "    str: A comma-separated string of languages found or 'English' if not found.\n",
        "\"\"\"\n",
        "    languages = re.findall(r'English|Spanish|French|German|Mandarin Chinese|Arabic|Russian|Portuguese|Japanese|Italian', resume_text, flags=re.IGNORECASE)\n",
        "    return \", \".join(languages) if languages else 'English'"
      ]
    },
    {
      "cell_type": "code",
      "execution_count": 15,
      "metadata": {
        "id": "lMV3tR4mNq_q"
      },
      "outputs": [],
      "source": [
        "def extract_resume_info(resume_text, resume_number):\n",
        "\"\"\"\n",
        "Extracts various resume information from the given resume text.\n",
        "\n",
        "Args:\n",
        "    resume_text (str): The resume text to extract the information from.\n",
        "    resume_number (int): The identifier of the resume.\n",
        "    \n",
        "Returns:\n",
        "    dict: A dictionary containing the extracted resume information.\n",
        "        The dictionary has the following fields:\n",
        "        - 'POSITION_TITLE': Position title extracted from the resume.\n",
        "        - 'resume number': Resume identifier.\n",
        "        - 'QUALIFICATIONS': Qualifications or highlights extracted from the resume.\n",
        "        - 'EDUCATION_TYPE': Highest education type achieved.\n",
        "        - 'SCHOOL_TYPE': School type (university, college, or high school).\n",
        "        - 'EDUCATION_MAJOR': Education major or concentration.\n",
        "        - 'EXPERIENCE_LENGTH': Total years of experience.\n",
        "        - 'AWARDS': Awards received.\n",
        "        - 'COMMUNITY SERVICE': Community service involvement (Yes/No).\n",
        "        - 'VOLUNTEERING': Volunteering experience (Yes/No).\n",
        "        - 'DRIVERS_LICENSE_AVAILABILITY': Driver's license availability (Yes/No).\n",
        "        - 'SKILLS_COUNT': Count of skills mentioned in the resume.\n",
        "        - 'SKILLS': List of skills extracted from the resume.\n",
        "        - 'Languages': Languages mentioned in the resume.\n",
        "\"\"\"\n",
        "    position_title = extract_position_title(resume_text)\n",
        "    qualifications = extract_qualifications(resume_text)\n",
        "    education_type = extract_education_type(resume_text)\n",
        "    school_type = extract_school_type(resume_text)\n",
        "    education_major = extract_education_major(resume_text)\n",
        "    experience_length = extract_experience_length(resume_text)\n",
        "    awards = extract_awards(resume_text)\n",
        "    community_service = extract_community_service(resume_text)\n",
        "    volunteering = extract_volunteering(resume_text)\n",
        "    drivers_license = extract_drivers_license_availability(resume_text)\n",
        "    skills = extract_skills(resume_text)\n",
        "    skills_count = get_skills_count(skills)\n",
        "    languages_count = extract_languages(resume_text)\n",
        "\n",
        "    return {\n",
        "        'POSITION_TITLE': position_title,\n",
        "        'resume number': resume_number,\n",
        "        'QUALIFICATIONS': qualifications,\n",
        "        'EDUCATION_TYPE': education_type,\n",
        "        'SCHOOL_TYPE': school_type,\n",
        "        'EDUCATION_MAJOR': education_major,\n",
        "        'EXPERIENCE_LENGTH': experience_length,\n",
        "        'AWARDS': awards,\n",
        "        'COMMUNITY SERVICE': community_service,\n",
        "        'VOLUNTEERING': volunteering,\n",
        "        'DRIVERS_LICENSE_AVAILABILITY': drivers_license,\n",
        "        'SKILLS_COUNT': skills_count,\n",
        "        'SKILLS': skills,\n",
        "        'Languages': languages_count\n",
        "    }"
      ]
    },
    {
      "cell_type": "code",
      "execution_count": 17,
      "metadata": {
        "id": "vZBSePnHNq_r"
      },
      "outputs": [],
      "source": [
        "def main():\n",
        "\"\"\"\n",
        "The main function that reads the resumes, extracts the resume information,\n",
        "and saves the results to a CSV file.\n",
        "\"\"\"\n",
        "    # Read the resumes from the CSV file\n",
        "    resumes_df = pd.read_csv('resume updated.csv')\n",
        "\n",
        "    # Extract resume information for each resume and create a list of dictionaries\n",
        "    resume_info_list = [extract_resume_info(resume_text, resume_number) for resume_text, resume_number in zip(resumes_df['Resume_str'], resumes_df['ID'])]\n",
        "\n",
        "    # Create a new DataFrame from the list of resume information\n",
        "    resume_info_df = pd.DataFrame(resume_info_list)\n",
        "\n",
        "    # Save the DataFrame to a new CSV file\n",
        "    resume_info_df.to_csv('extracted_resume_info.csv', index=False)\n",
        "\n",
        "if __name__ == \"__main__\":\n",
        "    main()"
      ]
    },
    {
      "cell_type": "code",
      "execution_count": 3,
      "metadata": {},
      "outputs": [],
      "source": [
        "# Read the first CSV file\n",
        "df1 = pd.read_csv('resume updated.csv')\n",
        "df1\n",
        "# Extract the column from the first DataFrame\n",
        "column_to_add = df1['Category']\n",
        "\n",
        "df = pd.read_csv('extracted_resume_info.csv')\n",
        "\n",
        "# Add the column to the second DataFrame\n",
        "df['CATEGORY'] = column_to_add\n",
        "# Save the updated DataFrame to a new CSV file\n",
        "df.to_csv('Ex_updated.csv', index=False)\n"
      ]
    }
  ],
  "metadata": {
    "colab": {
      "provenance": []
    },
    "kernelspec": {
      "display_name": "Python 3",
      "language": "python",
      "name": "python3"
    },
    "language_info": {
      "codemirror_mode": {
        "name": "ipython",
        "version": 3
      },
      "file_extension": ".py",
      "mimetype": "text/x-python",
      "name": "python",
      "nbconvert_exporter": "python",
      "pygments_lexer": "ipython3",
      "version": "3.9.6"
    },
    "orig_nbformat": 4
  },
  "nbformat": 4,
  "nbformat_minor": 0
}
