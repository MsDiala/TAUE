{
 "cells": [
  {
   "cell_type": "markdown",
   "id": "cca3fd8f",
   "metadata": {},
   "source": [
    "## Problem : Metrics Understanding\n",
    "---\n",
    "\n",
    "We want to build 3 AI models :\n",
    "\n",
    "*   One can detect skin cancer\n",
    "*   One can detect spam messages and move them to the trash \n",
    "*   One can classify fruits\n",
    "\n",
    "knowing that all of your datasets for these projects are unbalanced . What is the best metric you will use to report the performance for each one of these models ?"
   ]
  },
  {
   "cell_type": "code",
   "execution_count": null,
   "id": "b633fc01",
   "metadata": {},
   "outputs": [],
   "source": [
    "#write your answer here"
   ]
  },
  {
   "cell_type": "markdown",
   "id": "24f81fe9",
   "metadata": {},
   "source": [
    "### Skin Cancer Detection Model:\n",
    "\n",
    "- Best Metric: \n",
    "    Area Under the Precision-Recall Curve (AUC-PR)\n",
    "- Explanation:\n",
    "    - AUC-PR is suitable for evaluating performance on imbalanced datasets, like skin cancer detection where positive cases are rare compared to negatives.\n",
    "    - AUC-PR considers both precision and recall, providing a balanced view of the model's ability to detect positive cases (skin cancer) while minimizing false positives.\n",
    "    - It is more informative than accuracy when dealing with imbalanced data, as it focuses on the model's ability to capture rare positive cases effectively.\n",
    "\n",
    "### Spam Message Detection Model:\n",
    "\n",
    "- Best Metric: \n",
    "    F1 Score\n",
    "- Explanation:\n",
    "    - F1 Score is well-suited for imbalanced datasets, like spam message detection, where spam messages are rare compared to legitimate ones.\n",
    "    - F1 Score balances precision (minimizing false positives) and recall (minimizing false negatives), providing a single metric for overall performance.\n",
    "    - Achieving a high F1 Score indicates that the model can effectively identify spam messages while minimizing misclassifications of legitimate messages.\n",
    "\n",
    "### Fruit Classification Model:\n",
    "\n",
    "- Best Metric: \n",
    "    Weighted F1 Score\n",
    "- Explanation:\n",
    "    - Weighted F1 Score is suitable for multi-class classification with imbalanced class distributions, like fruit classification where some fruit types may be less represented.\n",
    "    - It considers the F1 Score for each class, weighted by the number of samples in each class, providing an overall performance measure.\n",
    "    - Weighted F1 Score accounts for precision and recall across all classes, considering their imbalanced nature and giving importance to smaller classes in the evaluation."
   ]
  }
 ],
 "metadata": {
  "kernelspec": {
   "display_name": "Python 3 (ipykernel)",
   "language": "python",
   "name": "python3"
  },
  "language_info": {
   "codemirror_mode": {
    "name": "ipython",
    "version": 3
   },
   "file_extension": ".py",
   "mimetype": "text/x-python",
   "name": "python",
   "nbconvert_exporter": "python",
   "pygments_lexer": "ipython3",
   "version": "3.9.12"
  }
 },
 "nbformat": 4,
 "nbformat_minor": 5
}
