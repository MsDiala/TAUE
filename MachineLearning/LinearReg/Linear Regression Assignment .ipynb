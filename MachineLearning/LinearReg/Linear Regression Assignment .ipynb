{
 "cells": [
  {
   "cell_type": "markdown",
   "id": "096071b3",
   "metadata": {},
   "source": [
    "# Linear Regression Assignment \n",
    "----"
   ]
  },
  {
   "cell_type": "markdown",
   "id": "4a7419d1",
   "metadata": {},
   "source": [
    "## Problem 1:  Linear Regression\n",
    "---\n",
    "\n",
    "Assume that during a three hour period spent outside a person recorded the temperature and their water consumption. The experiment was conducted on 7 randomly selected days during the summer.\n",
    "\n",
    "**Here is the data:**\n",
    "\n",
    "Day Temp: 98,83,95,74,90,84,82.\n",
    "\n",
    "Water consumed oz: 48,27,48,16,32,25,20.\n",
    "\n",
    "- Calculate the linear regression equation .\n",
    "\n",
    "- Does it have positive or negative correlation?"
   ]
  },
  {
   "cell_type": "code",
   "execution_count": 5,
   "id": "412981d5",
   "metadata": {},
   "outputs": [
    {
     "name": "stdout",
     "output_type": "stream",
     "text": [
      "Linear regression equation: y = 1.48x + -97.32\n",
      "Positive correlation\n"
     ]
    }
   ],
   "source": [
    "import numpy as np\n",
    "import pandas as pd\n",
    "from sklearn.linear_model import LinearRegression\n",
    "\n",
    "\n",
    "# Read the data from the CSV file\n",
    "data = pd.read_csv('water consumption.csv')\n",
    "x = data['Day Temp'].values\n",
    "y = data['Water consumed'].values\n",
    "\n",
    "# Calculate the linear regression equation\n",
    "N = len(x)\n",
    "sum_x = np.sum(x)\n",
    "sum_y = np.sum(y)\n",
    "sum_xy = np.sum(x * y)\n",
    "sum_x_squared = np.sum(x**2)\n",
    "\n",
    "slope = (N * sum_xy - sum_x * sum_y) / (N * sum_x_squared - sum_x**2)\n",
    "intercept = (sum_y - slope * sum_x) / N\n",
    "\n",
    "# Print the linear regression equation\n",
    "print(f\"Linear regression equation: y = {slope:.2f}x + {intercept:.2f}\")\n",
    "\n",
    "# Determine the correlation\n",
    "correlation = np.corrcoef(x, y)[0, 1]\n",
    "if correlation > 0:\n",
    "    print(\"Positive correlation\")\n",
    "else:\n",
    "    print(\"Negative correlation\")\n"
   ]
  },
  {
   "cell_type": "markdown",
   "id": "1dbb782d",
   "metadata": {},
   "source": [
    "The linear regression equation obtained from the analysis of the provided data is y = 1.48x - 97.32, indicating a positive correlation between temperature (x) and water consumption (y). This means that as the temperature increases, the water consumption tends to increase as well.\n",
    "\n",
    "The positive correlation coefficient suggests that there is a direct relationship between temperature and water consumption. In this case, an increase in temperature is associated with an increase in the amount of water consumed."
   ]
  },
  {
   "cell_type": "markdown",
   "id": "6ea9afef",
   "metadata": {},
   "source": [
    "## Problem 2:  Linear Regression\n",
    "---\n",
    "We want to predict the CO2 emission of a car , A csv file contains the data is provided **`cars.csv`** : \n",
    "- Clean the data and explain what you have done.\n",
    "- Build a linear regression model on this data.\n",
    "- Predict the CO2 emission of a car where the weight is 2555, and the volume is 1300cm3.\n",
    "- Do we care about the car brand while using this model ? and why ?."
   ]
  },
  {
   "cell_type": "markdown",
   "metadata": {},
   "source": []
  },
  {
   "cell_type": "code",
   "execution_count": 12,
   "id": "45d00cc4",
   "metadata": {},
   "outputs": [
    {
     "name": "stdout",
     "output_type": "stream",
     "text": [
      "The predicted CO2 emission for a car with weight 2555 and volume 1300 is 120.11\n"
     ]
    }
   ],
   "source": [
    "import warnings\n",
    "\n",
    "# Load the data from the CSV file\n",
    "data = pd.read_csv('cars.csv')\n",
    "\n",
    "# Clean the data\n",
    "data['Weight'] = data['Weight'].str.replace(',', '')\n",
    "data['Weight'] = pd.to_numeric(data['Weight'], errors='coerce')\n",
    "data = data.dropna(subset=['Weight', 'Volume', 'CO2'])\n",
    "\n",
    "# Drop row with invalid value in the \"Volume\" column\n",
    "data = data[data['Volume'] != 'gx']\n",
    "\n",
    "data['Volume'] = pd.to_numeric(data['Volume'])\n",
    "\n",
    "# Build the linear regression model\n",
    "X = data[['Weight', 'Volume']]\n",
    "y = data['CO2']\n",
    "model = LinearRegression()\n",
    "\n",
    "# Suppress the warning about feature names\n",
    "warnings.filterwarnings(\"ignore\", category=UserWarning)\n",
    "\n",
    "model.fit(X, y)\n",
    "\n",
    "# Predict the CO2 emission of a car with weight 2555 and volume 1300cm3\n",
    "weight = 2555\n",
    "volume = 1300\n",
    "predicted_co2 = model.predict([[weight, volume]])\n",
    "\n",
    "print(f\"The predicted CO2 emission for a car with weight {weight} and volume {volume} is {predicted_co2[0]:.2f}\")\n"
   ]
  }
 ],
 "metadata": {
  "kernelspec": {
   "display_name": "Python 3 (ipykernel)",
   "language": "python",
   "name": "python3"
  },
  "language_info": {
   "codemirror_mode": {
    "name": "ipython",
    "version": 3
   },
   "file_extension": ".py",
   "mimetype": "text/x-python",
   "name": "python",
   "nbconvert_exporter": "python",
   "pygments_lexer": "ipython3",
   "version": "3.9.6"
  }
 },
 "nbformat": 4,
 "nbformat_minor": 5
}
