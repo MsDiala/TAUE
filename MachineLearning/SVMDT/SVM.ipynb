{
 "cells": [
  {
   "cell_type": "markdown",
   "id": "4a7419d1",
   "metadata": {},
   "source": [
    "## Problem :  SVM\n",
    "---\n",
    "- Build a classification model based on SVM to classify the [Iris Dataset](https://archive.ics.uci.edu/ml/datasets/iris) , split the data to 75% training set and 25% testing set and report the training and testing accuracy .\n",
    "\n",
    "- How svm can be used to solve nonlinear problems ?"
   ]
  },
  {
   "cell_type": "code",
   "execution_count": 3,
   "id": "3f8fa7a8",
   "metadata": {},
   "outputs": [
    {
     "name": "stdout",
     "output_type": "stream",
     "text": [
      "Training Accuracy: 0.9732142857142857\n",
      "Testing Accuracy: 1.0\n"
     ]
    }
   ],
   "source": [
    "#Q1\n",
    "import pandas as pd\n",
    "from sklearn.datasets import load_iris\n",
    "from sklearn.model_selection import train_test_split\n",
    "from sklearn.svm import SVC\n",
    "from sklearn.metrics import accuracy_score\n",
    "\n",
    "def load_preprocess_data():\n",
    "    iris = load_iris()\n",
    "    df = pd.DataFrame(iris.data, columns=iris.feature_names)\n",
    "    df['target'] = iris.target\n",
    "    X = df.drop('target', axis=1)\n",
    "    y = df['target']\n",
    "    return X, y\n",
    "\n",
    "def train_evaluate_svm(X_train, X_test, y_train, y_test):\n",
    "    # Create an SVM classifier with a linear kernel\n",
    "    model = SVC(kernel='linear', C=1.0, random_state=42)\n",
    "\n",
    "    # Train the SVM model\n",
    "    model.fit(X_train, y_train)\n",
    "\n",
    "    # Make predictions and evaluate the model\n",
    "    y_train_pred = model.predict(X_train)\n",
    "    y_test_pred = model.predict(X_test)\n",
    "\n",
    "    training_accuracy = accuracy_score(y_train, y_train_pred)\n",
    "    testing_accuracy = accuracy_score(y_test, y_test_pred)\n",
    "\n",
    "    return training_accuracy, testing_accuracy\n",
    "\n",
    "def main():\n",
    "    # Step 1: Load and preprocess the dataset\n",
    "    X, y = load_preprocess_data()\n",
    "\n",
    "    # Step 2: Split the data into training and testing sets\n",
    "    X_train, X_test, y_train, y_test = train_test_split(X, y, test_size=0.25, random_state=42)\n",
    "\n",
    "    # Step 3 and 4: Train and evaluate the SVM model\n",
    "    training_accuracy, testing_accuracy = train_evaluate_svm(X_train, X_test, y_train, y_test)\n",
    "\n",
    "    print(\"Training Accuracy:\", training_accuracy)\n",
    "    print(\"Testing Accuracy:\", testing_accuracy)\n",
    "\n",
    "if __name__ == \"__main__\":\n",
    "    main()\n"
   ]
  },
  {
   "cell_type": "code",
   "execution_count": 4,
   "id": "9a629508",
   "metadata": {},
   "outputs": [],
   "source": [
    "#Q2"
   ]
  },
  {
   "cell_type": "markdown",
   "id": "77dfc3fa",
   "metadata": {},
   "source": [
    "Support Vector Machines (SVM) can be used to solve nonlinear problems by leveraging a technique known as the \"kernel trick.\" This technique allows SVM to transform the original feature space into a higher-dimensional space, where the data might become linearly separable. By doing so, SVM can effectively handle complex, nonlinear relationships between features and classes.\n",
    "SVM's ability to handle nonlinear problems using the kernel trick makes it a powerful and versatile algorithm for classification tasks, enabling it to handle complex relationships between features and classes that cannot be solved with simple linear models."
   ]
  }
 ],
 "metadata": {
  "kernelspec": {
   "display_name": "Python 3 (ipykernel)",
   "language": "python",
   "name": "python3"
  },
  "language_info": {
   "codemirror_mode": {
    "name": "ipython",
    "version": 3
   },
   "file_extension": ".py",
   "mimetype": "text/x-python",
   "name": "python",
   "nbconvert_exporter": "python",
   "pygments_lexer": "ipython3",
   "version": "3.9.6"
  }
 },
 "nbformat": 4,
 "nbformat_minor": 5
}
